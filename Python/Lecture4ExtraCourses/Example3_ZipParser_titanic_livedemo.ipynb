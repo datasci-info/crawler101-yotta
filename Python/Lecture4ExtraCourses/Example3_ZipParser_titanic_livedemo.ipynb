{
 "cells": [
  {
   "cell_type": "code",
   "execution_count": 6,
   "metadata": {},
   "outputs": [
    {
     "name": "stdout",
     "output_type": "stream",
     "text": [
      "Example1_Summerize_FB_Likers.ipynb\r\n",
      "Example1_Summerize_FB_Likers_livedemo.ipynb\r\n",
      "Example2_ExcelParser_titanic.ipynb\r\n",
      "Example2_ExcelParser_titanic_livedemo.ipynb\r\n",
      "Example3_ZipParser_titanic.ipynb\r\n",
      "Example3_ZipParser_titanic_livedemo.ipynb\r\n",
      "fb_api_config.json\r\n",
      "titanic.xlsx\r\n",
      "titanic.zip\r\n"
     ]
    }
   ],
   "source": [
    "!ls"
   ]
  },
  {
   "cell_type": "code",
   "execution_count": 7,
   "metadata": {
    "collapsed": true
   },
   "outputs": [],
   "source": [
    "!rm titanic.xlsx"
   ]
  },
  {
   "cell_type": "code",
   "execution_count": 8,
   "metadata": {},
   "outputs": [
    {
     "name": "stdout",
     "output_type": "stream",
     "text": [
      "Example1_Summerize_FB_Likers.ipynb\r\n",
      "Example1_Summerize_FB_Likers_livedemo.ipynb\r\n",
      "Example2_ExcelParser_titanic.ipynb\r\n",
      "Example2_ExcelParser_titanic_livedemo.ipynb\r\n",
      "Example3_ZipParser_titanic.ipynb\r\n",
      "Example3_ZipParser_titanic_livedemo.ipynb\r\n",
      "fb_api_config.json\r\n",
      "titanic.zip\r\n"
     ]
    }
   ],
   "source": [
    "!ls"
   ]
  },
  {
   "cell_type": "code",
   "execution_count": 9,
   "metadata": {
    "collapsed": true
   },
   "outputs": [],
   "source": [
    "# import zipfile\n",
    "# zip_ref = zipfile.ZipFile(\"titanic.zip\", 'r')\n",
    "# zip_ref.extractall(\".\")\n",
    "# zip_ref.close()"
   ]
  },
  {
   "cell_type": "code",
   "execution_count": 10,
   "metadata": {
    "collapsed": true
   },
   "outputs": [],
   "source": [
    "import zipfile\n",
    "with zipfile.ZipFile(\"titanic.zip\", 'r') as zip_ref:\n",
    "    zip_ref.extractall(\".\")"
   ]
  },
  {
   "cell_type": "code",
   "execution_count": 11,
   "metadata": {},
   "outputs": [
    {
     "name": "stdout",
     "output_type": "stream",
     "text": [
      "Example1_Summerize_FB_Likers.ipynb\r\n",
      "Example1_Summerize_FB_Likers_livedemo.ipynb\r\n",
      "Example2_ExcelParser_titanic.ipynb\r\n",
      "Example2_ExcelParser_titanic_livedemo.ipynb\r\n",
      "Example3_ZipParser_titanic.ipynb\r\n",
      "Example3_ZipParser_titanic_livedemo.ipynb\r\n",
      "fb_api_config.json\r\n",
      "titanic.xlsx\r\n",
      "titanic.zip\r\n"
     ]
    }
   ],
   "source": [
    "!ls"
   ]
  },
  {
   "cell_type": "code",
   "execution_count": 12,
   "metadata": {
    "collapsed": true
   },
   "outputs": [],
   "source": [
    "zipfile.ZipFile?"
   ]
  },
  {
   "cell_type": "code",
   "execution_count": null,
   "metadata": {
    "collapsed": true
   },
   "outputs": [],
   "source": []
  }
 ],
 "metadata": {
  "kernelspec": {
   "display_name": "Python 3",
   "language": "python",
   "name": "python3"
  },
  "language_info": {
   "codemirror_mode": {
    "name": "ipython",
    "version": 3
   },
   "file_extension": ".py",
   "mimetype": "text/x-python",
   "name": "python",
   "nbconvert_exporter": "python",
   "pygments_lexer": "ipython3",
   "version": "3.6.2"
  }
 },
 "nbformat": 4,
 "nbformat_minor": 2
}
