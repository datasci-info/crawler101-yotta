{
 "cells": [
  {
   "cell_type": "markdown",
   "metadata": {},
   "source": [
    "# 如何抓到所有電話"
   ]
  },
  {
   "cell_type": "code",
   "execution_count": 1,
   "metadata": {
    "collapsed": true
   },
   "outputs": [],
   "source": [
    "import requests\n",
    "res1 = requests.get(\"http://www.319papago.idv.tw/lifeinfo/tkkinc-02.html\")\n",
    "res2 = requests.get(\"http://www.319papago.idv.tw/lifeinfo/starbucks/starbucks-02.html\")"
   ]
  },
  {
   "cell_type": "code",
   "execution_count": 2,
   "metadata": {
    "collapsed": true
   },
   "outputs": [],
   "source": [
    "res1.encoding = \"utf8\"\n",
    "res2.encoding = \"utf8\""
   ]
  },
  {
   "cell_type": "code",
   "execution_count": 3,
   "metadata": {},
   "outputs": [
    {
     "data": {
      "text/plain": [
       "'\\n<html>\\n<head>\\n<meta http-equiv=\"Content-Type\" content=\"text/html; charset=utf-8\">\\n<title>頂呱呱炸雞台北市門市資訊查詢-生活資訊網</title>\\n</head>\\n<body oncopy=\"return false;\">\\n<table width=\"800\" border=\"1\" cellpadding=\"0\" cellspacing=\"0\" align=\"center\">\\n  <tr>\\n    <td><table width=\"770\" border=\"0\" cellpadding=\"0\" cellspacing=\"0\" align=\"center\">\\n  \\t\\t<tr>\\n  \\t\\t\\t<td>\\n        <div align=\"center\"> \\n\\t\\t<h1>頂呱呱炸雞台北市各地門市、電話、地址</h1>\\n        </div>\\t\\t\\t\\n\\t\\t<hr noshade>\\n        <div align=\"center\">\\n          <!--SEC -->\\n  <a href=\"life-index.html\">生活資訊網</a> | <a href=\"../Travels/000-T.html\">全台景點資訊</a> | <a href=\"../SuperTaste/01-E.html\">食尚玩家美食資訊</a> | <a href=\"tkkinc-00.html\">頂呱呱炸雞門市資訊</a>\\n  \\t\\t</div>\\n        <hr noshade>\\t\\t\\n<table width=\"616\" border=\"0\" align=\"center\">\\n   <tr>\\n    <td width=\"303\">\\n\\t<img src=\"images/tkkinc.png\" alt=\"頂呱呱炸雞各地門市\" width=\"300\" height=\"250\">\\n\\t</td>\\n    <td width=\"303\">\\n\\t\\n<script async src=\"//pagead2.googlesyndication.com/pagead/js/adsbygoogle.js\"></script>\\n<!-- N2013_LIFE_300 -->\\n<ins class=\"adsbygoogle\"\\n     style=\"display:inline-block;width:300px;height:250px\"\\n     data-ad-client=\"ca-pub-3637885760759307\"\\n     data-ad-slot=\"4581581777\"></ins>\\n<script>\\n(adsbygoogle = window.adsbygoogle || []).push({});\\n</script>\\n\\t</td>\\n\\t\\n  </tr>\\n</table>\\n<hr noshade>\\n\\n<h3 align=\"center\">頂呱呱炸雞台北市門市、電話、地址、營業特色</h3>\\t\\t\\n<table width=\"682\" border=\"0\" align=\"center\">\\n<tr>\\n<td>\\n<div style=\"float: right; margin: 5px\">\\n<script async src=\"//pagead2.googlesyndication.com/pagead/js/adsbygoogle.js\"></script>\\n<!-- N2013_LIFE_300 -->\\n<ins class=\"adsbygoogle\"\\n     style=\"display:inline-block;width:300px;height:250px\"\\n     data-ad-client=\"ca-pub-3637885760759307\"\\n     data-ad-slot=\"4581581777\"></ins>\\n<script>\\n(adsbygoogle = window.adsbygoogle || []).push({});\\n</script>\\n</div>\\n頂呱呱在眾多的美式炸雞店及大型速食店的強壓之下，能以本土的品牌殺出一條血路算是非常不容易。\\n頂呱呱標榜自我養雞及以本土品質讓顧客滿意，因此從品管及獨家口味來進攻市場。\\n頂呱呱除了炸雞之外還有本土炸地瓜，有別於美式速食店的炸馬鈴薯地瓜更加的甜及美味，\\n炸雞方面因為原料都是本土新鮮的，所以也有別於其他速食店有推出整隻的手扒雞，\\n讓顧客更加的大口滿足於美食中。\\n頂呱呱炸雞是台灣本土的一家連鎖炸雞店，原來的頂呱呱炸雞是因為台灣雞隻生產過剩，\\n於是開始研發速食炸雞的技術，進成立頂呱呱炸雞連鎖店。頂呱呱標榜的是有自有的養雞場，\\n讓人感覺從雞肉的來源到炸雞的生產，都安全可靠。頂呱呱以獨家的配方和對品質的要求，\\n來得到客戶的信賴，在一片美式大型速食店環視之下還能再成長，更顯經營者的用心與對顧客對商品品質的支持。<br>\\n頂呱呱炸雞官方網站:<a href=\"http://www.tkkinc.com.tw/\" target=\"_blank\">http://www.tkkinc.com.tw/</a>\\n</td>\\n</tr>\\n</table>\\n\\n<hr>\\n<h2>頂呱呱炸雞台北市門市資訊</h2>\\t\\t\\n        <table width=\"728\" border=\"1\" cellpadding=\"0\" cellspacing=\"0\" align=\"center\">\\n\\t\\t<tr>\\n        <td width=\"172\" height=\"33\" bgcolor=\"#FFFFCC\">頂呱呱炸雞分店名稱</td>\\n        <td width=\"140\" bgcolor=\"#FFFFCC\">分店電話</td>\\n        <td width=\"408\" bgcolor=\"#FFFFCC\">頂呱呱炸雞分店營業地址</td>\\n\\t\\t</tr>\\n\\t\\t<tr>\\n          <td height=\"33\">福林</td>\\n\\t\\t  <td height=\"33\">(02)2883-9272</td>\\n\\t\\t  <td height=\"33\">台北市士林區中正路235巷16號(近士林捷運站1號出口)</td>\\n\\t\\t  </tr>\\n\\t\\t<tr>\\n          <td height=\"33\">TKKFRESH師範大學店</td>\\n\\t\\t  <td height=\"33\">(02)2322-3657</td>\\n\\t\\t  <td height=\"33\">台北市大安區和平東路一段129-1號1樓</td>\\n\\t\\t  </tr>\\n\\t\\t<tr>\\n          <td height=\"33\">忠孝</td>\\n\\t\\t  <td height=\"33\">(02)2771-8652</td>\\n\\t\\t  <td height=\"33\">台北市大安區忠孝東路四段177號</td>\\n\\t\\t  </tr>\\n\\t\\t<tr>\\n          <td height=\"33\">TKKtheBAR</td>\\n\\t\\t  <td height=\"33\">(02)2721-3065</td>\\n\\t\\t  <td height=\"33\">台北市大安區忠孝東路四段181巷7弄21號</td>\\n\\t\\t  </tr>\\n\\t\\t<tr>\\n          <td height=\"33\">實踐店</td>\\n\\t\\t  <td height=\"33\">(02)2532-8052</td>\\n\\t\\t  <td height=\"33\">台北市中山區大直街70號</td>\\n\\t\\t  </tr>\\n\\t\\t<tr>\\n          <td height=\"33\">大同</td>\\n\\t\\t  <td height=\"33\">(02)2531-8339</td>\\n\\t\\t  <td height=\"33\">台北市中山區民權西路54-1號</td>\\n\\t\\t  </tr>\\n\\t\\t<tr>\\n          <td height=\"33\">建國</td>\\n\\t\\t  <td height=\"33\">(02)2507-3948</td>\\n\\t\\t  <td height=\"33\">台北市中山區南京東路三段17號</td>\\n\\t\\t  </tr>\\n\\t\\t<tr>\\n          <td height=\"33\">誠品台大醫院店</td>\\n\\t\\t  <td height=\"33\">(02)2321-1039</td>\\n\\t\\t  <td height=\"33\">台北市中正區中山南路7號B1F(誠品台大醫院)</td>\\n\\t\\t  </tr>\\n\\t\\t<tr>\\n          <td height=\"33\">TKKFRESH國光西站</td>\\n\\t\\t  <td height=\"33\">(02)2383-0670</td>\\n\\t\\t  <td height=\"33\">台北市中正區忠孝西路一段171號1樓</td>\\n\\t\\t  </tr>\\n\\t\\t<tr>\\n          <td height=\"33\">誠品站前</td>\\n\\t\\t  <td height=\"33\">(02)2383-2562</td>\\n\\t\\t  <td height=\"33\">台北市中正區忠孝西路一段47號B1F(誠品站前店K區地下美食街47櫃)</td>\\n\\t\\t  </tr>\\n\\t\\t<tr>\\n          <td height=\"33\">南昌</td>\\n\\t\\t  <td height=\"33\">(02)2341-1428</td>\\n\\t\\t  <td height=\"33\">台北市中正區南昌路二段3號</td>\\n\\t\\t  </tr>\\n\\t\\t<tr>\\n          <td height=\"33\">公館</td>\\n\\t\\t  <td height=\"33\">(02)2368-6341</td>\\n\\t\\t  <td height=\"33\">台北市中正區羅斯福路四段134號</td>\\n\\t\\t  </tr>\\n\\t\\t<tr>\\n          <td height=\"33\">瑞光</td>\\n\\t\\t  <td height=\"33\">(02)2659-9247</td>\\n\\t\\t  <td height=\"33\">台北市內湖區瑞光路283號</td>\\n\\t\\t  </tr>\\n\\t\\t<tr>\\n          <td height=\"33\">北投</td>\\n\\t\\t  <td height=\"33\">(02)2896-7065</td>\\n\\t\\t  <td height=\"33\">台北市北投區光明路218-2號</td>\\n\\t\\t  </tr>\\n\\t\\t<tr>\\n          <td height=\"33\">慶城街一號</td>\\n\\t\\t  <td height=\"33\">(02)2546-9897</td>\\n\\t\\t  <td height=\"33\">台北市松山區台北市松山區慶城街1號B1F</td>\\n\\t\\t  </tr>\\n\\t\\t<tr>\\n          <td height=\"33\">誠品信義</td>\\n\\t\\t  <td height=\"33\">(02)2722-7971</td>\\n\\t\\t  <td height=\"33\">台北市信義區松高路10號B2F(誠品信義)</td>\\n\\t\\t  </tr>\\n\\t\\t<tr>\\n          <td height=\"33\">新光三越A11</td>\\n\\t\\t  <td height=\"33\">(02)2722-9290</td>\\n\\t\\t  <td height=\"33\">台北市信義區松高路11號B2F(新光三越A11)</td>\\n\\t\\t  </tr>\\n\\t\\t<tr>\\n          <td height=\"33\">昆陽</td>\\n\\t\\t  <td height=\"33\">(02)2786-3206</td>\\n\\t\\t  <td height=\"33\">台北市南港區忠孝東路六段392號</td>\\n\\t\\t  </tr>\\n\\t\\t<tr>\\n          <td height=\"33\">西門</td>\\n\\t\\t  <td height=\"33\">(02)2381-2037</td>\\n\\t\\t  <td height=\"33\">台北市萬華區昆明街92-2號</td>\\n\\t\\t  </tr>\\n        </table>\\n\\n<table width=\"728\" align=\"center\">\\n <tr>\\n  <td height=\"90\">\\n  \\n  <div align=\"center\">\\n  \\n<script async src=\"//pagead2.googlesyndication.com/pagead/js/adsbygoogle.js\"></script>\\n<!-- N2013_LIFE_728 -->\\n<ins class=\"adsbygoogle\"\\n     style=\"display:inline-block;width:728px;height:90px\"\\n     data-ad-client=\"ca-pub-3637885760759307\"\\n     data-ad-slot=\"3104848578\"></ins>\\n<script>\\n(adsbygoogle = window.adsbygoogle || []).push({});\\n</script>\\n\\n  </div>\\n\\n  </td>\\n  </tr>\\t\\t\\n </table>\\t\\t\\n\\t\\t </td>\\n</tr>\\n    </table></td>\\n  </tr>  \\n</table>\\n\\n\\n<blockquote>\\n  <p>&nbsp;</p>\\n</blockquote>\\n</body>\\n</html>\\n'"
      ]
     },
     "execution_count": 3,
     "metadata": {},
     "output_type": "execute_result"
    }
   ],
   "source": [
    "res1.text"
   ]
  },
  {
   "cell_type": "code",
   "execution_count": 4,
   "metadata": {},
   "outputs": [
    {
     "data": {
      "text/plain": [
       "'\\n<html>\\n<head>\\n<meta http-equiv=\"Content-Language\" content=\"zh-tw\">\\n<meta http-equiv=\"Content-Type\" content=\"text/html; charset=utf-8\">\\n<meta name=\"keyword\" content=\"starbucks星巴克咖啡,starbucks星巴克咖啡門市,starbucks星巴克咖啡台北市門市\">\\n<meta name=\"description\" content=\"starbucks星巴克咖啡台北市門市資訊查詢-XXXXX\">\\n<title>starbucks星巴克咖啡台北市門市資訊查詢-生活資訊網</title>\\n</head>\\n<body oncopy=\"return false;\">\\n<table width=\"800\" border=\"1\" cellpadding=\"0\" cellspacing=\"0\" align=\"center\">\\n  <tr>\\n    <td><table width=\"770\" border=\"0\" cellpadding=\"0\" cellspacing=\"0\" align=\"center\">\\n  \\t\\t<tr>\\n  \\t\\t\\t<td>\\n        <div align=\"center\"> \\n\\t\\t<h1>starbucks星巴克咖啡台北市各地門市、電話、地址</h1>\\n        </div>\\t\\t\\t\\n\\t\\t<hr noshade>\\n        <div align=\"center\">\\n          <!--SEC -->\\n  <a href=\"../life-index.html\">生活資訊網</a> | <a href=\"../../Travels/000-T.html\">全台景點資訊</a> | <a href=\"../../SuperTaste/01-E.html\">食尚玩家美食資訊</a> | <a href=\"starbucks-00.html\">starbucks星巴克咖啡門市資訊</a>\\n  \\t\\t</div>\\n        <hr noshade>\\t\\t\\n<table width=\"616\" border=\"0\" align=\"center\">\\n   <tr>\\n    <td width=\"303\">\\n\\t<img src=\"images/starbucks.png\" alt=\"starbucks星巴克咖啡各地門市\" width=\"300\" height=\"250\">\\n\\t</td>\\n    <td width=\"303\">\\n\\t\\n<script async src=\"//pagead2.googlesyndication.com/pagead/js/adsbygoogle.js\"></script>\\n<!-- N2013_LIFE_300 -->\\n<ins class=\"adsbygoogle\"\\n     style=\"display:inline-block;width:300px;height:250px\"\\n     data-ad-client=\"ca-pub-3637885760759307\"\\n     data-ad-slot=\"4581581777\"></ins>\\n<script>\\n(adsbygoogle = window.adsbygoogle || []).push({});\\n</script>\\n\\t</td>\\n\\t\\n  </tr>\\n</table>\\n<hr noshade>\\n\\n<h2 align=\"center\">starbucks星巴克咖啡台北市門市、電話、地址、營業特色</h2>\\n<table width=\"682\" border=\"0\" align=\"center\">\\n<tr>\\n<td>\\nstarbucks星巴克進入台灣市場後開始帶動一波新的咖啡風潮，在各大辦公大樓林立的地點開始發展出新的咖啡文化。<br><br>\\n<div style=\"float: right; margin: 5px\">\\n<script async src=\"//pagead2.googlesyndication.com/pagead/js/adsbygoogle.js\"></script>\\n<!-- N2013_LIFE_300 -->\\n<ins class=\"adsbygoogle\"\\n     style=\"display:inline-block;width:300px;height:250px\"\\n     data-ad-client=\"ca-pub-3637885760759307\"\\n     data-ad-slot=\"4581581777\"></ins>\\n<script>\\n(adsbygoogle = window.adsbygoogle || []).push({});\\n</script>\\n</div>\\n星巴克的品牌政策是想當成功，所推出的咖啡也不算便宜，產品的定位是屬多數人負擔的起的奢侈品，定位的消費著是白領的上班族群，\\n這些喜歡精品及追求流行和著重品味。星巴克在跨國後往往就當地文化特質，提供適合當地文化的品味和流行。<br><br>\\n星巴克是很著重員工的一個企業，對於員工工資及福利都是十份優渥，讓員工很樂於工作，愉快的工作對顧客服務就更加的著重。\\n星巴克咖啡是全球最大的咖啡連鎖店，在每一個熱鬧的城市街頭都可以看的到，星巴克的總部是在美國的西雅圖市，一般的主要定位是學生及城市的白領階級。<br><br>\\n星巴克咖啡常常與書店、學校、超級市場和教學醫院合作成立門市，提升企業間的附加效益。\\n台灣的星巴克是由統一集團及美國星巴克合資開立，在台灣附了冰的及熱的咖啡外，還有主打加啡類的甜點，\\n門市裝置讓人感覺十分輕鬆，該客人很喜歡待在店裡悠閒的品嚐咖啡及和三五朋友聊天打趣，或是上網放鬆。\\n星巴克的也有販賣多種不同烘焙和不同產地的咖啡豆，眾多的咖啡產品及咖啡附屬產品都有不錯的鎖售成績。<br>\\n星巴克門市更新至:20141117。<br>\\n星巴克官方網址:<a href=\"http://www.starbucks.com.tw/\" target=\"_blank\">http://www.starbucks.com.tw/</a><br>\\n</td>\\n</tr>\\n</table>\\n<hr>\\n<h2>starbucks星巴克咖啡台北市門市資訊</h2>\\t\\t\\n        <table width=\"728\" border=\"1\" cellpadding=\"0\" cellspacing=\"0\" align=\"center\">\\n\\t\\t<tr>\\n        <td width=\"172\" height=\"33\" bgcolor=\"#FFFFCC\">starbucks星巴克咖啡分店名稱</td>\\n        <td width=\"140\" bgcolor=\"#FFFFCC\">分店電話</td>\\n        <td width=\"408\" bgcolor=\"#FFFFCC\">starbucks星巴克咖啡分店營業地址</td>\\n\\t\\t</tr>\\n\\t\\t<tr>\\n          <td height=\"33\">忠誠門市</td>\\n\\t\\t  <td height=\"33\">02-2873-5815</td>\\n\\t\\t  <td height=\"33\">台北市士林區士東路123號\\xa0</td>\\n\\t\\t  </tr>\\n\\t\\t<tr>\\n          <td height=\"33\">天母崇光門市</td>\\n\\t\\t  <td height=\"33\">02-2834-9068</td>\\n\\t\\t  <td height=\"33\">台北市士林區中山北路六段77號B1\\xa0</td>\\n\\t\\t  </tr>\\n\\t\\t<tr>\\n          <td height=\"33\">士捷門市</td>\\n\\t\\t  <td height=\"33\">02-2883-1657</td>\\n\\t\\t  <td height=\"33\">台北市士林區中正路239號(近士林捷運站出口)\\xa0</td>\\n\\t\\t  </tr>\\n\\t\\t<tr>\\n          <td height=\"33\">新天母門市</td>\\n\\t\\t  <td height=\"33\">02-2876-9351</td>\\n\\t\\t  <td height=\"33\">台北市士林區天母西路33號1樓\\xa0</td>\\n\\t\\t  </tr>\\n\\t\\t<tr>\\n          <td height=\"33\">天母忠誠門市</td>\\n\\t\\t  <td height=\"33\">02-2874-5737</td>\\n\\t\\t  <td height=\"33\">台北市士林區天母東路67-1號1樓\\xa0</td>\\n\\t\\t  </tr>\\n\\t\\t<tr>\\n          <td height=\"33\">士林門市</td>\\n\\t\\t  <td height=\"33\">02-2880-7805</td>\\n\\t\\t  <td height=\"33\">台北市士林區文林路122號1樓\\xa0</td>\\n\\t\\t  </tr>\\n\\t\\t<tr>\\n          <td height=\"33\">士林承德門市</td>\\n\\t\\t  <td height=\"33\">02-2885-1251</td>\\n\\t\\t  <td height=\"33\">台北市士林區承德路四段67號\\xa0</td>\\n\\t\\t  </tr>\\n\\t\\t<tr>\\n          <td height=\"33\">京站門市</td>\\n\\t\\t  <td height=\"33\">02-2552-7432</td>\\n\\t\\t  <td height=\"33\">台北市大同區承德路一段1號\\xa0</td>\\n\\t\\t  </tr>\\n\\t\\t<tr>\\n          <td height=\"33\">京站二門市</td>\\n\\t\\t  <td height=\"33\">02-2552-7178</td>\\n\\t\\t  <td height=\"33\">台北市大同區承德路一段1號 (京站百貨4 F)\\xa0</td>\\n\\t\\t  </tr>\\n\\t\\t<tr>\\n          <td height=\"33\">保安門市</td>\\n\\t\\t  <td height=\"33\">02-2557-8493</td>\\n\\t\\t  <td height=\"33\">台北市大同區保安街11號\\xa0</td>\\n\\t\\t  </tr>\\n\\t\\t<tr>\\n          <td height=\"33\">南西門市</td>\\n\\t\\t  <td height=\"33\">02-2556-6810</td>\\n\\t\\t  <td height=\"33\">台北市大同區南京西路27號\\xa0</td>\\n\\t\\t  </tr>\\n\\t\\t<tr>\\n          <td height=\"33\">台北圓環門市</td>\\n\\t\\t  <td height=\"33\">02-2559-8348</td>\\n\\t\\t  <td height=\"33\">台北市大同區南京西路288號\\xa0</td>\\n\\t\\t  </tr>\\n\\t\\t<tr>\\n          <td height=\"33\">庫倫承德門市</td>\\n\\t\\t  <td height=\"33\">02-2592-8122</td>\\n\\t\\t  <td height=\"33\">台北市大同區庫倫街51號\\xa0</td>\\n\\t\\t  </tr>\\n\\t\\t<tr>\\n          <td height=\"33\">通化門市</td>\\n\\t\\t  <td height=\"33\">02-2701-8950</td>\\n\\t\\t  <td height=\"33\">台北市大安區文昌街209號\\xa0</td>\\n\\t\\t  </tr>\\n\\t\\t<tr>\\n          <td height=\"33\">華視門市</td>\\n\\t\\t  <td height=\"33\">02-8771-9692</td>\\n\\t\\t  <td height=\"33\">台北市大安區光復南路180巷14號(華視停車場旁)\\xa0</td>\\n\\t\\t  </tr>\\n\\t\\t<tr>\\n          <td height=\"33\">辛亥門市</td>\\n\\t\\t  <td height=\"33\">02-2738-5799</td>\\n\\t\\t  <td height=\"33\">台北市大安區辛亥路二段175號1樓\\xa0</td>\\n\\t\\t  </tr>\\n\\t\\t<tr>\\n          <td height=\"33\">和平門市</td>\\n\\t\\t  <td height=\"33\">02-2369-4200</td>\\n\\t\\t  <td height=\"33\">台北市大安區和平東路一段2號(古亭站四號出口)\\xa0</td>\\n\\t\\t  </tr>\\n\\t\\t<tr>\\n          <td height=\"33\">建和門市</td>\\n\\t\\t  <td height=\"33\">02-2363-9331</td>\\n\\t\\t  <td height=\"33\">台北市大安區和平東路二段42-1號\\xa0</td>\\n\\t\\t  </tr>\\n\\t\\t<tr>\\n          <td height=\"33\">仁愛延吉門市</td>\\n\\t\\t  <td height=\"33\">02-2775-4574</td>\\n\\t\\t  <td height=\"33\">台北市大安區延吉街175號\\xa0</td>\\n\\t\\t  </tr>\\n\\t\\t<tr>\\n          <td height=\"33\">崇興門市</td>\\n\\t\\t  <td height=\"33\">02-8772-5940</td>\\n\\t\\t  <td height=\"33\">台北市大安區忠孝東路三段300號B2\\xa0</td>\\n\\t\\t  </tr>\\n\\t\\t<tr>\\n          <td height=\"33\">龍門門市</td>\\n\\t\\t  <td height=\"33\">02-2740-6782</td>\\n\\t\\t  <td height=\"33\">台北市大安區忠孝東路四段134號\\xa0</td>\\n\\t\\t  </tr>\\n\\t\\t<tr>\\n          <td height=\"33\">同領門市</td>\\n\\t\\t  <td height=\"33\">02-8771-0612</td>\\n\\t\\t  <td height=\"33\">台北市大安區忠孝東路四段201號\\xa0</td>\\n\\t\\t  </tr>\\n\\t\\t<tr>\\n          <td height=\"33\">崇光門市</td>\\n\\t\\t  <td height=\"33\">02-2771-2826</td>\\n\\t\\t  <td height=\"33\">台北市大安區忠孝東路四段45號B1\\xa0</td>\\n\\t\\t  </tr>\\n\\t\\t<tr>\\n          <td height=\"33\">師大雲和門市</td>\\n\\t\\t  <td height=\"33\">02-2363-8317</td>\\n\\t\\t  <td height=\"33\">台北市大安區師大路74號\\xa0</td>\\n\\t\\t  </tr>\\n\\t\\t<tr>\\n          <td height=\"33\">復安門市</td>\\n\\t\\t  <td height=\"33\">02-2775-1187</td>\\n\\t\\t  <td height=\"33\">台北市大安區復興南路一段135巷9號\\xa0</td>\\n\\t\\t  </tr>\\n\\t\\t<tr>\\n          <td height=\"33\">興南門市</td>\\n\\t\\t  <td height=\"33\">02-2325-9473</td>\\n\\t\\t  <td height=\"33\">台北市大安區復興南路一段323號1樓\\xa0</td>\\n\\t\\t  </tr>\\n\\t\\t<tr>\\n          <td height=\"33\">興和門市</td>\\n\\t\\t  <td height=\"33\">02-2701-9918</td>\\n\\t\\t  <td height=\"33\">台北市大安區復興南路二段275號1樓(近捷運木柵線科技大樓站)\\xa0</td>\\n\\t\\t  </tr>\\n\\t\\t<tr>\\n          <td height=\"33\">敦誠門市</td>\\n\\t\\t  <td height=\"33\">02-8773-1626</td>\\n\\t\\t  <td height=\"33\">台北市大安區敦化南路一段245號G樓\\xa0</td>\\n\\t\\t  </tr>\\n\\t\\t<tr>\\n          <td height=\"33\">敦南門市</td>\\n\\t\\t  <td height=\"33\">02-2754-9460</td>\\n\\t\\t  <td height=\"33\">台北市大安區敦化南路二段101號1樓\\xa0</td>\\n\\t\\t  </tr>\\n\\t\\t<tr>\\n          <td height=\"33\">敦和門市</td>\\n\\t\\t  <td height=\"33\">02-2732-0326</td>\\n\\t\\t  <td height=\"33\">台北市大安區敦化南路二段263號\\xa0</td>\\n\\t\\t  </tr>\\n\\t\\t<tr>\\n          <td height=\"33\">敦富門市</td>\\n\\t\\t  <td height=\"33\">02-2707-4198</td>\\n\\t\\t  <td height=\"33\">台北市大安區敦化南路二段59號1樓(近敦化南路信義路口)\\xa0</td>\\n\\t\\t  </tr>\\n\\t\\t<tr>\\n          <td height=\"33\">羅斯福門市</td>\\n\\t\\t  <td height=\"33\">02-2364-6845</td>\\n\\t\\t  <td height=\"33\">台北市大安區羅斯福路三段301號\\xa0</td>\\n\\t\\t  </tr>\\n\\t\\t<tr>\\n          <td height=\"33\">公館門市</td>\\n\\t\\t  <td height=\"33\">02-2368-5629</td>\\n\\t\\t  <td height=\"33\">台北市大安區羅斯福路四段26號1樓\\xa0</td>\\n\\t\\t  </tr>\\n\\t\\t<tr>\\n          <td height=\"33\">實踐</td>\\n\\t\\t  <td height=\"33\">02-2532-5223</td>\\n\\t\\t  <td height=\"33\">台北市中山區大直街70號1樓(實踐大學後門)\\xa0</td>\\n\\t\\t  </tr>\\n\\t\\t<tr>\\n          <td height=\"33\">中山門市</td>\\n\\t\\t  <td height=\"33\">02-2586-9568</td>\\n\\t\\t  <td height=\"33\">台北市中山區中山北路二段171號\\xa0</td>\\n\\t\\t  </tr>\\n\\t\\t<tr>\\n          <td height=\"33\">馬偕門市</td>\\n\\t\\t  <td height=\"33\">02-2511-6691</td>\\n\\t\\t  <td height=\"33\">台北市中山區民生西路7號\\xa0</td>\\n\\t\\t  </tr>\\n\\t\\t<tr>\\n          <td height=\"33\">龍權門市</td>\\n\\t\\t  <td height=\"33\">02-2517-9259</td>\\n\\t\\t  <td height=\"33\">台北市中山區民權東路三段22號1樓(民權東路與龍江路口)\\xa0</td>\\n\\t\\t  </tr>\\n\\t\\t<tr>\\n          <td height=\"33\">民權門市</td>\\n\\t\\t  <td height=\"33\">02-2504-4751</td>\\n\\t\\t  <td height=\"33\">台北市中山區民權東路三段88號1樓\\xa0</td>\\n\\t\\t  </tr>\\n\\t\\t<tr>\\n          <td height=\"33\">松江門市</td>\\n\\t\\t  <td height=\"33\">02-2564-2790</td>\\n\\t\\t  <td height=\"33\">台北市中山區松江路206號1樓\\xa0</td>\\n\\t\\t  </tr>\\n\\t\\t<tr>\\n          <td height=\"33\">松安門市</td>\\n\\t\\t  <td height=\"33\">02-2517-3150</td>\\n\\t\\t  <td height=\"33\">台北市中山區松江路61-1號1樓\\xa0</td>\\n\\t\\t  </tr>\\n\\t\\t<tr>\\n          <td height=\"33\">林森門市</td>\\n\\t\\t  <td height=\"33\">02-2542-8870</td>\\n\\t\\t  <td height=\"33\">台北市中山區林森北路247號1樓\\xa0</td>\\n\\t\\t  </tr>\\n\\t\\t<tr>\\n          <td height=\"33\">南京林森門市</td>\\n\\t\\t  <td height=\"33\">02-2523-4586</td>\\n\\t\\t  <td height=\"33\">台北市中山區南京東路一段52號\\xa0</td>\\n\\t\\t  </tr>\\n\\t\\t<tr>\\n          <td height=\"33\">南京建國門市</td>\\n\\t\\t  <td height=\"33\">02-2515-1918</td>\\n\\t\\t  <td height=\"33\">台北市中山區南京東路三段1號\\xa0</td>\\n\\t\\t  </tr>\\n\\t\\t<tr>\\n          <td height=\"33\">大直植福門市</td>\\n\\t\\t  <td height=\"33\">02-8502-7502</td>\\n\\t\\t  <td height=\"33\">台北市中山區敬業二路115號1樓\\xa0</td>\\n\\t\\t  </tr>\\n\\t\\t<tr>\\n          <td height=\"33\">大直門市</td>\\n\\t\\t  <td height=\"33\">02-8502-1756</td>\\n\\t\\t  <td height=\"33\">台北市中山區敬業三路123號\\xa0</td>\\n\\t\\t  </tr>\\n\\t\\t<tr>\\n          <td height=\"33\">美麗華門市</td>\\n\\t\\t  <td height=\"33\">02-2175-3190</td>\\n\\t\\t  <td height=\"33\">台北市中山區敬業三路20號\\xa0</td>\\n\\t\\t  </tr>\\n\\t\\t<tr>\\n          <td height=\"33\">台醫B1門市</td>\\n\\t\\t  <td height=\"33\">02-2321-5497</td>\\n\\t\\t  <td height=\"33\">台北市中正區中山南路7號B1\\xa0</td>\\n\\t\\t  </tr>\\n\\t\\t<tr>\\n          <td height=\"33\">台鐵一門市</td>\\n\\t\\t  <td height=\"33\">02-2331-8012</td>\\n\\t\\t  <td height=\"33\">台北市中正區北平西路3號2樓(台北火車站2樓)\\xa0</td>\\n\\t\\t  </tr>\\n\\t\\t<tr>\\n          <td height=\"33\">站前誠品門市</td>\\n\\t\\t  <td height=\"33\">02-2383-1251</td>\\n\\t\\t  <td height=\"33\">台北市中正區忠孝西路一段47號B1F\\xa0</td>\\n\\t\\t  </tr>\\n\\t\\t<tr>\\n          <td height=\"33\">捷運門市</td>\\n\\t\\t  <td height=\"33\">02-2375-9066</td>\\n\\t\\t  <td height=\"33\">台北市中正區忠孝西路一段49號B1 E標(台北捷運站四號出口附近B1)\\xa0</td>\\n\\t\\t  </tr>\\n\\t\\t<tr>\\n          <td height=\"33\">新世界門市</td>\\n\\t\\t  <td height=\"33\">02-2371-7092</td>\\n\\t\\t  <td height=\"33\">台北市中正區忠孝西路一段49號B1(台北車站新世界廣場,往高鐵台鐵方向))\\xa0</td>\\n\\t\\t  </tr>\\n\\t\\t<tr>\\n          <td height=\"33\">紹興門市</td>\\n\\t\\t  <td height=\"33\">02-2395-8127</td>\\n\\t\\t  <td height=\"33\">台北市中正區忠孝東路一段31號1樓\\xa0</td>\\n\\t\\t  </tr>\\n\\t\\t<tr>\\n          <td height=\"33\">忠新門市</td>\\n\\t\\t  <td height=\"33\">02-2395-7870</td>\\n\\t\\t  <td height=\"33\">台北市中正區忠孝東路二段134巷2號1樓(捷運忠孝新生站2號出口)\\xa0</td>\\n\\t\\t  </tr>\\n\\t\\t<tr>\\n          <td height=\"33\">杭州門市</td>\\n\\t\\t  <td height=\"33\">02-2393-0139</td>\\n\\t\\t  <td height=\"33\">台北市中正區信義路二段1號之1\\xa0</td>\\n\\t\\t  </tr>\\n\\t\\t<tr>\\n          <td height=\"33\">南海門市</td>\\n\\t\\t  <td height=\"33\">02-2396-0860</td>\\n\\t\\t  <td height=\"33\">台北市中正區南海路20號\\xa0</td>\\n\\t\\t  </tr>\\n\\t\\t<tr>\\n          <td height=\"33\">許昌南陽門市</td>\\n\\t\\t  <td height=\"33\">02-2389-9086</td>\\n\\t\\t  <td height=\"33\">台北市中正區南陽街1號2F\\xa0</td>\\n\\t\\t  </tr>\\n\\t\\t<tr>\\n          <td height=\"33\">公館水源門市</td>\\n\\t\\t  <td height=\"33\">02-2368-2805</td>\\n\\t\\t  <td height=\"33\">台北市中正區思源街16號\\xa0</td>\\n\\t\\t  </tr>\\n\\t\\t<tr>\\n          <td height=\"33\">重慶門市</td>\\n\\t\\t  <td height=\"33\">02-2371-3336</td>\\n\\t\\t  <td height=\"33\">台北市中正區重慶南路一段104號\\xa0</td>\\n\\t\\t  </tr>\\n\\t\\t<tr>\\n          <td height=\"33\">館前漢口門市</td>\\n\\t\\t  <td height=\"33\">02-2331-0893</td>\\n\\t\\t  <td height=\"33\">台北市中正區館前路26號1樓\\xa0</td>\\n\\t\\t  </tr>\\n\\t\\t<tr>\\n          <td height=\"33\">懷寧門市</td>\\n\\t\\t  <td height=\"33\">02-2389-3776</td>\\n\\t\\t  <td height=\"33\">台北市中正區懷寧街10號1樓\\xa0</td>\\n\\t\\t  </tr>\\n\\t\\t<tr>\\n          <td height=\"33\">寶平門市</td>\\n\\t\\t  <td height=\"33\">02-2331-0388</td>\\n\\t\\t  <td height=\"33\">台北市中正區寶慶路32號\\xa0</td>\\n\\t\\t  </tr>\\n\\t\\t<tr>\\n          <td height=\"33\">環山門市</td>\\n\\t\\t  <td height=\"33\">02-2799-5897</td>\\n\\t\\t  <td height=\"33\">台北市內湖區內湖路一段289號(西湖捷運站旁)\\xa0</td>\\n\\t\\t  </tr>\\n\\t\\t<tr>\\n          <td height=\"33\">西湖門市</td>\\n\\t\\t  <td height=\"33\">02-2627-6027</td>\\n\\t\\t  <td height=\"33\">台北市內湖區內湖路一段360巷2-1號\\xa0</td>\\n\\t\\t  </tr>\\n\\t\\t<tr>\\n          <td height=\"33\">內湖民權門市</td>\\n\\t\\t  <td height=\"33\">02-2793-9550</td>\\n\\t\\t  <td height=\"33\">台北市內湖區民權東路六段182號\\xa0</td>\\n\\t\\t  </tr>\\n\\t\\t<tr>\\n          <td height=\"33\">內湖三總門市</td>\\n\\t\\t  <td height=\"33\">02-8791-8095</td>\\n\\t\\t  <td height=\"33\">台北市內湖區成功路二段325號B1\\xa0</td>\\n\\t\\t  </tr>\\n\\t\\t<tr>\\n          <td height=\"33\">內湖成功門市</td>\\n\\t\\t  <td height=\"33\">02-2796-3099</td>\\n\\t\\t  <td height=\"33\">台北市內湖區成功路四段147號1樓\\xa0</td>\\n\\t\\t  </tr>\\n\\t\\t<tr>\\n          <td height=\"33\">洲子門市</td>\\n\\t\\t  <td height=\"33\">02-2658-9178</td>\\n\\t\\t  <td height=\"33\">台北市內湖區洲子街48號\\xa0</td>\\n\\t\\t  </tr>\\n\\t\\t<tr>\\n          <td height=\"33\">基湖門市</td>\\n\\t\\t  <td height=\"33\">02-2799-9334</td>\\n\\t\\t  <td height=\"33\">台北市內湖區基湖路25號\\xa0</td>\\n\\t\\t  </tr>\\n\\t\\t<tr>\\n          <td height=\"33\">康寧門市</td>\\n\\t\\t  <td height=\"33\">02-2633-1621</td>\\n\\t\\t  <td height=\"33\">台北市內湖區康寧路三段72號1樓\\xa0</td>\\n\\t\\t  </tr>\\n\\t\\t<tr>\\n          <td height=\"33\">舊宗新湖門市</td>\\n\\t\\t  <td height=\"33\">02-2795-3963</td>\\n\\t\\t  <td height=\"33\">台北市內湖區新湖二路128號 (近內湖大潤發1館)\\xa0</td>\\n\\t\\t  </tr>\\n\\t\\t<tr>\\n          <td height=\"33\">港墘</td>\\n\\t\\t  <td height=\"33\">02-8753-5105</td>\\n\\t\\t  <td height=\"33\">台北市內湖區瑞光路216號\\xa0</td>\\n\\t\\t  </tr>\\n\\t\\t<tr>\\n          <td height=\"33\">瑞傳門市</td>\\n\\t\\t  <td height=\"33\">02-8798-3266</td>\\n\\t\\t  <td height=\"33\">台北市內湖區瑞光路476號\\xa0</td>\\n\\t\\t  </tr>\\n\\t\\t<tr>\\n          <td height=\"33\">舊宗門市</td>\\n\\t\\t  <td height=\"33\">02-8792-8408</td>\\n\\t\\t  <td height=\"33\">台北市內湖區舊宗路一段188號1樓\\xa0</td>\\n\\t\\t  </tr>\\n\\t\\t<tr>\\n          <td height=\"33\">木柵門市</td>\\n\\t\\t  <td height=\"33\">02-2234-3305</td>\\n\\t\\t  <td height=\"33\">台北市文山區木柵路三段75號\\xa0</td>\\n\\t\\t  </tr>\\n\\t\\t<tr>\\n          <td height=\"33\">政大門市</td>\\n\\t\\t  <td height=\"33\">02-8661-6613</td>\\n\\t\\t  <td height=\"33\">台北市文山區指南路二段105號\\xa0</td>\\n\\t\\t  </tr>\\n\\t\\t<tr>\\n          <td height=\"33\">萬芳</td>\\n\\t\\t  <td height=\"33\">02-2933-6950</td>\\n\\t\\t  <td height=\"33\">台北市文山區興隆路三段111號\\xa0</td>\\n\\t\\t  </tr>\\n\\t\\t<tr>\\n          <td height=\"33\">石牌門市</td>\\n\\t\\t  <td height=\"33\">02-2827-7832</td>\\n\\t\\t  <td height=\"33\">台北市北投區石牌路二段74號1~3樓\\xa0</td>\\n\\t\\t  </tr>\\n\\t\\t<tr>\\n          <td height=\"33\">華碩企總門市</td>\\n\\t\\t  <td height=\"33\">02-2897-7118</td>\\n\\t\\t  <td height=\"33\">台北市北投區立德路15號3F (需為華碩員工或邀請之訪客始可進入)\\xa0</td>\\n\\t\\t  </tr>\\n\\t\\t<tr>\\n          <td height=\"33\">光明門市</td>\\n\\t\\t  <td height=\"33\">02-2898-1051</td>\\n\\t\\t  <td height=\"33\">台北市北投區光明路218-4號\\xa0</td>\\n\\t\\t  </tr>\\n\\t\\t<tr>\\n          <td height=\"33\">振興門市</td>\\n\\t\\t  <td height=\"33\">02-2821-6075</td>\\n\\t\\t  <td height=\"33\">台北市北投區振興街37號\\xa0</td>\\n\\t\\t  </tr>\\n\\t\\t<tr>\\n          <td height=\"33\">陽明山門市</td>\\n\\t\\t  <td height=\"33\">02-2861-0399</td>\\n\\t\\t  <td height=\"33\">台北市北投區湖山路一段14號之1\\xa0</td>\\n\\t\\t  </tr>\\n\\t\\t<tr>\\n          <td height=\"33\">台視門市</td>\\n\\t\\t  <td height=\"33\">02-2579-3016</td>\\n\\t\\t  <td height=\"33\">台北市松山區八德路三段10號\\xa0</td>\\n\\t\\t  </tr>\\n\\t\\t<tr>\\n          <td height=\"33\">德復門市</td>\\n\\t\\t  <td height=\"33\">02-2578-8732</td>\\n\\t\\t  <td height=\"33\">台北市松山區八德路三段251號1~2F(監理所旁)\\xa0</td>\\n\\t\\t  </tr>\\n\\t\\t<tr>\\n          <td height=\"33\">京華門市</td>\\n\\t\\t  <td height=\"33\">02-8761-6614</td>\\n\\t\\t  <td height=\"33\">台北市松山區八德路四段138號1樓\\xa0</td>\\n\\t\\t  </tr>\\n\\t\\t<tr>\\n          <td height=\"33\">民生門市</td>\\n\\t\\t  <td height=\"33\">02-2712-0428</td>\\n\\t\\t  <td height=\"33\">台北市松山區民生東路三段105號1樓\\xa0</td>\\n\\t\\t  </tr>\\n\\t\\t<tr>\\n          <td height=\"33\">宏泰門市</td>\\n\\t\\t  <td height=\"33\">02-2719-2682</td>\\n\\t\\t  <td height=\"33\">台北市松山區民生東路三段156-1號\\xa0</td>\\n\\t\\t  </tr>\\n\\t\\t<tr>\\n          <td height=\"33\">三民門市</td>\\n\\t\\t  <td height=\"33\">02-2767-6603</td>\\n\\t\\t  <td height=\"33\">台北市松山區民生東路五段158號\\xa0</td>\\n\\t\\t  </tr>\\n\\t\\t<tr>\\n          <td height=\"33\">敦化南京門市</td>\\n\\t\\t  <td height=\"33\">02-8770-7623</td>\\n\\t\\t  <td height=\"33\">台北市松山區南京東路三段337號1樓\\xa0</td>\\n\\t\\t  </tr>\\n\\t\\t<tr>\\n          <td height=\"33\">北寧門市</td>\\n\\t\\t  <td height=\"33\">02-2570-6312</td>\\n\\t\\t  <td height=\"33\">台北市松山區南京東路四段56號1樓\\xa0</td>\\n\\t\\t  </tr>\\n\\t\\t<tr>\\n          <td height=\"33\">微廣門市</td>\\n\\t\\t  <td height=\"33\">02-8772-5686</td>\\n\\t\\t  <td height=\"33\">台北市松山區復興南路一段39號2樓 (微風廣場2樓)\\xa0</td>\\n\\t\\t  </tr>\\n\\t\\t<tr>\\n          <td height=\"33\">微風廣場門市</td>\\n\\t\\t  <td height=\"33\">02-8772-2208</td>\\n\\t\\t  <td height=\"33\">台北市松山區復興南路一段39號G樓\\xa0</td>\\n\\t\\t  </tr>\\n\\t\\t<tr>\\n          <td height=\"33\">敦化門市</td>\\n\\t\\t  <td height=\"33\">02-2718-2750</td>\\n\\t\\t  <td height=\"33\">台北市松山區敦化北路147號1樓(近長庚醫院)\\xa0</td>\\n\\t\\t  </tr>\\n\\t\\t<tr>\\n          <td height=\"33\">松山機場門市</td>\\n\\t\\t  <td height=\"33\">02-2545-3398</td>\\n\\t\\t  <td height=\"33\">台北市松山區敦化北路340-9號2F(一航廈)\\xa0</td>\\n\\t\\t  </tr>\\n\\t\\t<tr>\\n          <td height=\"33\">慶城門市</td>\\n\\t\\t  <td height=\"33\">02-2716-5113</td>\\n\\t\\t  <td height=\"33\">台北市松山區慶城街1號1樓\\xa0</td>\\n\\t\\t  </tr>\\n\\t\\t<tr>\\n          <td height=\"33\">101門市</td>\\n\\t\\t  <td height=\"33\">02-8101-8126</td>\\n\\t\\t  <td height=\"33\">台北市信義區市府路45號1樓(101辦公大樓1樓B.C室) (辦公大樓出入口僅限員工出入；101商場B1美食廣場有手扶梯通往門市)\\xa0</td>\\n\\t\\t  </tr>\\n\\t\\t<tr>\\n          <td height=\"33\">北醫吳興門市</td>\\n\\t\\t  <td height=\"33\">02-2377-2279</td>\\n\\t\\t  <td height=\"33\">台北市信義區吳興街220巷1號\\xa0</td>\\n\\t\\t  </tr>\\n\\t\\t<tr>\\n          <td height=\"33\">北醫門市</td>\\n\\t\\t  <td height=\"33\">02-2732-8509</td>\\n\\t\\t  <td height=\"33\">台北市信義區吳興街252號1樓(台北醫學院第三醫療大樓一樓)\\xa0</td>\\n\\t\\t  </tr>\\n\\t\\t<tr>\\n          <td height=\"33\">永春門市</td>\\n\\t\\t  <td height=\"33\">02-2742-5909</td>\\n\\t\\t  <td height=\"33\">台北市信義區忠孝東路五段297號1樓\\xa0</td>\\n\\t\\t  </tr>\\n\\t\\t<tr>\\n          <td height=\"33\">台北阪急</td>\\n\\t\\t  <td height=\"33\">02-2722-6292</td>\\n\\t\\t  <td height=\"33\">台北市信義區忠孝東路五段8號2樓\\xa0</td>\\n\\t\\t  </tr>\\n\\t\\t<tr>\\n          <td height=\"33\">統豐門市</td>\\n\\t\\t  <td height=\"33\">02-2746-6635</td>\\n\\t\\t  <td height=\"33\">台北市信義區東興路65號1樓\\xa0</td>\\n\\t\\t  </tr>\\n\\t\\t<tr>\\n          <td height=\"33\">松山車站門市</td>\\n\\t\\t  <td height=\"33\">02-2742-3361</td>\\n\\t\\t  <td height=\"33\">台北市信義區松山路11號1樓\\xa0</td>\\n\\t\\t  </tr>\\n\\t\\t<tr>\\n          <td height=\"33\">BELLAVITA門市</td>\\n\\t\\t  <td height=\"33\">02-2723-3390</td>\\n\\t\\t  <td height=\"33\">台北市信義區松仁路28號\\xa0</td>\\n\\t\\t  </tr>\\n\\t\\t<tr>\\n          <td height=\"33\">松仁門市</td>\\n\\t\\t  <td height=\"33\">02-2723-1486</td>\\n\\t\\t  <td height=\"33\">台北市信義區松仁路7號1樓(國泰金控大樓內)\\xa0</td>\\n\\t\\t  </tr>\\n\\t\\t<tr>\\n          <td height=\"33\">統誠門市</td>\\n\\t\\t  <td height=\"33\">02-2723-2086</td>\\n\\t\\t  <td height=\"33\">台北市信義區松高路11號(松高路與松智路口,信義誠品旗艦店1樓)\\xa0</td>\\n\\t\\t  </tr>\\n\\t\\t<tr>\\n          <td height=\"33\">新光門市</td>\\n\\t\\t  <td height=\"33\">02-8789-4099</td>\\n\\t\\t  <td height=\"33\">台北市信義區松壽路11號1樓 (新光三越百貨A11館內)\\xa0</td>\\n\\t\\t  </tr>\\n\\t\\t<tr>\\n          <td height=\"33\">信義ATT門市</td>\\n\\t\\t  <td height=\"33\">02-7737-8755</td>\\n\\t\\t  <td height=\"33\">台北市信義區松壽路12號1樓(人行徒步區)\\xa0</td>\\n\\t\\t  </tr>\\n\\t\\t<tr>\\n          <td height=\"33\">101 35F門市</td>\\n\\t\\t  <td height=\"33\">02-8101-0701</td>\\n\\t\\t  <td height=\"33\">台北市信義區信義路5段7號35樓之1 (台北101大樓內35樓)\\xa0</td>\\n\\t\\t  </tr>\\n\\t\\t<tr>\\n          <td height=\"33\">信義松德門市</td>\\n\\t\\t  <td height=\"33\">02-2727-8573</td>\\n\\t\\t  <td height=\"33\">台北市信義區信義路六段1號\\xa0</td>\\n\\t\\t  </tr>\\n\\t\\t<tr>\\n          <td height=\"33\">南山門市</td>\\n\\t\\t  <td height=\"33\">02-8786-7793</td>\\n\\t\\t  <td height=\"33\">台北市信義區莊敬路168號1F(南山人壽總部大樓)\\xa0</td>\\n\\t\\t  </tr>\\n\\t\\t<tr>\\n          <td height=\"33\">南港門市</td>\\n\\t\\t  <td height=\"33\">02-2655-1456</td>\\n\\t\\t  <td height=\"33\">台北市南港區三重路19-10號1樓\\xa0</td>\\n\\t\\t  </tr>\\n\\t\\t<tr>\\n          <td height=\"33\">南港三重門市</td>\\n\\t\\t  <td height=\"33\">02-2651-5309</td>\\n\\t\\t  <td height=\"33\">台北市南港區南港路一段114號\\xa0</td>\\n\\t\\t  </tr>\\n\\t\\t<tr>\\n          <td height=\"33\">南園門市</td>\\n\\t\\t  <td height=\"33\">02-2785-0096</td>\\n\\t\\t  <td height=\"33\">台北市南港區園區街3號2樓之7\\xa0</td>\\n\\t\\t  </tr>\\n\\t\\t<tr>\\n          <td height=\"33\">西門成都門市</td>\\n\\t\\t  <td height=\"33\">02-2311-4818</td>\\n\\t\\t  <td height=\"33\">台北市萬華區成都路87號\\xa0</td>\\n\\t\\t  </tr>\\n\\t\\t<tr>\\n          <td height=\"33\">萬華西藏門市</td>\\n\\t\\t  <td height=\"33\">02-2303-1368</td>\\n\\t\\t  <td height=\"33\">台北市萬華區西藏路123號\\xa0</td>\\n\\t\\t  </tr>\\n\\t\\t<tr>\\n          <td height=\"33\">西門昆明門市</td>\\n\\t\\t  <td height=\"33\">02-2314-8250</td>\\n\\t\\t  <td height=\"33\">台北市萬華區武昌街二段77號\\xa0</td>\\n\\t\\t  </tr>\\n\\t\\t<tr>\\n          <td height=\"33\">漢中門市</td>\\n\\t\\t  <td height=\"33\">02-2370-5893</td>\\n\\t\\t  <td height=\"33\">台北市萬華區漢中街51號1樓\\xa0</td>\\n\\t\\t  </tr>\\n        </table>\\n\\n<table width=\"728\" align=\"center\">\\n <tr>\\n  <td height=\"90\">\\n  \\n  <div align=\"center\">\\n  \\n<script async src=\"//pagead2.googlesyndication.com/pagead/js/adsbygoogle.js\"></script>\\n<!-- N2013_LIFE_728 -->\\n<ins class=\"adsbygoogle\"\\n     style=\"display:inline-block;width:728px;height:90px\"\\n     data-ad-client=\"ca-pub-3637885760759307\"\\n     data-ad-slot=\"3104848578\"></ins>\\n<script>\\n(adsbygoogle = window.adsbygoogle || []).push({});\\n</script>\\n\\n  </div>\\n\\n  </td>\\n  </tr>\\t\\t\\n </table>\\t\\t\\n\\t\\t </td>\\n</tr>\\n    </table></td>\\n  </tr>  \\n</table>\\n\\n\\n<blockquote>\\n  <p>&nbsp;</p>\\n</blockquote>\\n</body>\\n</html>\\n'"
      ]
     },
     "execution_count": 4,
     "metadata": {},
     "output_type": "execute_result"
    }
   ],
   "source": [
    "res2.text"
   ]
  },
  {
   "cell_type": "code",
   "execution_count": 5,
   "metadata": {
    "collapsed": true
   },
   "outputs": [],
   "source": [
    "import re"
   ]
  },
  {
   "cell_type": "code",
   "execution_count": 8,
   "metadata": {},
   "outputs": [
    {
     "data": {
      "text/plain": [
       "['2883-9272',\n",
       " '2322-3657',\n",
       " '129-1',\n",
       " '2771-8652',\n",
       " '2721-3065',\n",
       " '2532-8052',\n",
       " '2531-8339',\n",
       " '54-1',\n",
       " '2507-3948',\n",
       " '2321-1039',\n",
       " '2383-0670',\n",
       " '2383-2562',\n",
       " '2341-1428',\n",
       " '2368-6341',\n",
       " '2659-9247',\n",
       " '2896-7065',\n",
       " '218-2',\n",
       " '2546-9897',\n",
       " '2722-7971',\n",
       " '2722-9290',\n",
       " '2786-3206',\n",
       " '2381-2037',\n",
       " '92-2']"
      ]
     },
     "execution_count": 8,
     "metadata": {},
     "output_type": "execute_result"
    }
   ],
   "source": [
    "re.findall(\"[0-9]+-[0-9]+\",res1.text)"
   ]
  },
  {
   "cell_type": "code",
   "execution_count": 11,
   "metadata": {},
   "outputs": [
    {
     "data": {
      "text/plain": [
       "['2883-9272',\n",
       " '2322-3657',\n",
       " '2771-8652',\n",
       " '2721-3065',\n",
       " '2532-8052',\n",
       " '2531-8339',\n",
       " '2507-3948',\n",
       " '2321-1039',\n",
       " '2383-0670',\n",
       " '2383-2562',\n",
       " '2341-1428',\n",
       " '2368-6341',\n",
       " '2659-9247',\n",
       " '2896-7065',\n",
       " '2546-9897',\n",
       " '2722-7971',\n",
       " '2722-9290',\n",
       " '2786-3206',\n",
       " '2381-2037']"
      ]
     },
     "execution_count": 11,
     "metadata": {},
     "output_type": "execute_result"
    }
   ],
   "source": [
    "pat = \"[0-9]{4}-[0-9]{4}\"\n",
    "re.findall(pat, res1.text)"
   ]
  },
  {
   "cell_type": "markdown",
   "metadata": {},
   "source": [
    "# Play: https://regex101.com/"
   ]
  }
 ],
 "metadata": {
  "kernelspec": {
   "display_name": "Python 3",
   "language": "python",
   "name": "python3"
  },
  "language_info": {
   "codemirror_mode": {
    "name": "ipython",
    "version": 3
   },
   "file_extension": ".py",
   "mimetype": "text/x-python",
   "name": "python",
   "nbconvert_exporter": "python",
   "pygments_lexer": "ipython3",
   "version": "3.6.2"
  }
 },
 "nbformat": 4,
 "nbformat_minor": 2
}
